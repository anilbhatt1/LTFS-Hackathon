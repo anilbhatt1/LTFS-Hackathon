{
 "cells": [
  {
   "cell_type": "code",
   "execution_count": 209,
   "metadata": {},
   "outputs": [],
   "source": [
    "# Decision Tree regression with date field splitted into new features and holiday feature added"
   ]
  },
  {
   "cell_type": "code",
   "execution_count": 59,
   "metadata": {},
   "outputs": [],
   "source": [
    "import numpy as np\n",
    "import pandas as pd\n",
    "import matplotlib.pyplot as plt\n",
    "import scipy.cluster.hierarchy as sch\n",
    "from sklearn.preprocessing import Imputer,LabelEncoder, OneHotEncoder\n",
    "from sklearn.model_selection import train_test_split\n",
    "from sklearn.preprocessing import StandardScaler\n",
    "import statsmodels.formula.api as sm\n",
    "import datetime as dt"
   ]
  },
  {
   "cell_type": "code",
   "execution_count": 3,
   "metadata": {},
   "outputs": [],
   "source": [
    "# Importing dataset to a dataframe\n",
    "df = pd.read_csv('LTFS_Hackathon_train_file.csv')"
   ]
  },
  {
   "cell_type": "code",
   "execution_count": 4,
   "metadata": {},
   "outputs": [
    {
     "data": {
      "text/plain": [
       "Index(['branch_id', 'zone'], dtype='object')"
      ]
     },
     "execution_count": 4,
     "metadata": {},
     "output_type": "execute_result"
    }
   ],
   "source": [
    "# Checking if application_date, segment columns have any null values\n",
    "null_columns=df.columns[df.isnull().any()]\n",
    "null_columns"
   ]
  },
  {
   "cell_type": "code",
   "execution_count": 5,
   "metadata": {},
   "outputs": [],
   "source": [
    "# Changing 'application date' to date format\n",
    "df['application_date'] = df['application_date'].apply(pd.to_datetime)"
   ]
  },
  {
   "cell_type": "code",
   "execution_count": 6,
   "metadata": {},
   "outputs": [],
   "source": [
    "# Creating new dataframe df_processing removing unwanted columns. We are removing these because test file doesn't have it\n",
    "df_processing = df[['application_date','segment','case_count']]"
   ]
  },
  {
   "cell_type": "code",
   "execution_count": 7,
   "metadata": {},
   "outputs": [
    {
     "data": {
      "text/html": [
       "<div>\n",
       "<style scoped>\n",
       "    .dataframe tbody tr th:only-of-type {\n",
       "        vertical-align: middle;\n",
       "    }\n",
       "\n",
       "    .dataframe tbody tr th {\n",
       "        vertical-align: top;\n",
       "    }\n",
       "\n",
       "    .dataframe thead th {\n",
       "        text-align: right;\n",
       "    }\n",
       "</style>\n",
       "<table border=\"1\" class=\"dataframe\">\n",
       "  <thead>\n",
       "    <tr style=\"text-align: right;\">\n",
       "      <th></th>\n",
       "      <th>application_date</th>\n",
       "      <th>segment</th>\n",
       "      <th>case_count</th>\n",
       "    </tr>\n",
       "  </thead>\n",
       "  <tbody>\n",
       "    <tr>\n",
       "      <td>0</td>\n",
       "      <td>2017-04-01</td>\n",
       "      <td>1</td>\n",
       "      <td>40.0</td>\n",
       "    </tr>\n",
       "    <tr>\n",
       "      <td>1</td>\n",
       "      <td>2017-04-03</td>\n",
       "      <td>1</td>\n",
       "      <td>5.0</td>\n",
       "    </tr>\n",
       "  </tbody>\n",
       "</table>\n",
       "</div>"
      ],
      "text/plain": [
       "  application_date  segment  case_count\n",
       "0       2017-04-01        1        40.0\n",
       "1       2017-04-03        1         5.0"
      ]
     },
     "execution_count": 7,
     "metadata": {},
     "output_type": "execute_result"
    }
   ],
   "source": [
    "df_processing.head(2)"
   ]
  },
  {
   "cell_type": "code",
   "execution_count": 8,
   "metadata": {},
   "outputs": [
    {
     "data": {
      "text/plain": [
       "application_date    datetime64[ns]\n",
       "segment                      int64\n",
       "case_count                 float64\n",
       "dtype: object"
      ]
     },
     "execution_count": 8,
     "metadata": {},
     "output_type": "execute_result"
    }
   ],
   "source": [
    "# Verifying dtypes are as expected\n",
    "df_processing.dtypes"
   ]
  },
  {
   "cell_type": "code",
   "execution_count": 119,
   "metadata": {},
   "outputs": [],
   "source": [
    "# Sorting based on application_date\n",
    "df_processing = df_processing.sort_values('application_date')"
   ]
  },
  {
   "cell_type": "code",
   "execution_count": 120,
   "metadata": {},
   "outputs": [],
   "source": [
    "# Summing up case_count based on date and segment\n",
    "df_processing_copy = df_processing.groupby(['application_date','segment'],as_index = False).sum()"
   ]
  },
  {
   "cell_type": "code",
   "execution_count": 159,
   "metadata": {},
   "outputs": [],
   "source": [
    "import holidays\n",
    "india_holidays = holidays.India()\n",
    "numeric_date = []\n",
    "day_of_week  = []\n",
    "day_of_month = []\n",
    "month        = []\n",
    "year         = []\n",
    "holiday      = []\n",
    "for i in range(0,len(df_processing_copy)):\n",
    "    day_of_week.append(df_processing_copy['application_date'][i].weekday())\n",
    "    day_of_month.append(df_processing_copy['application_date'][i].day)\n",
    "    month.append(df_processing_copy['application_date'][i].month)\n",
    "    year.append(df_processing_copy['application_date'][i].year)\n",
    "    df_processing_copy['application_date'].map(dt.datetime.toordinal)\n",
    "    if df_processing_copy['application_date'][i].strftime('%Y-%m-%d') in india_holidays:\n",
    "        holiday.append(1)\n",
    "    else:\n",
    "        holiday.append(0)\n",
    "    \n",
    "df_processing_copy['day_of_week'] = day_of_week\n",
    "df_processing_copy['day_of_month'] = day_of_month\n",
    "df_processing_copy['month'] = month\n",
    "df_processing_copy['year'] = year\n",
    "df_processing_copy['holiday'] = holiday"
   ]
  },
  {
   "cell_type": "code",
   "execution_count": 160,
   "metadata": {},
   "outputs": [],
   "source": [
    "df_processing_copy['numeric_date']=df_processing_copy['application_date'].map(dt.datetime.toordinal)"
   ]
  },
  {
   "cell_type": "code",
   "execution_count": 161,
   "metadata": {},
   "outputs": [
    {
     "data": {
      "text/html": [
       "<div>\n",
       "<style scoped>\n",
       "    .dataframe tbody tr th:only-of-type {\n",
       "        vertical-align: middle;\n",
       "    }\n",
       "\n",
       "    .dataframe tbody tr th {\n",
       "        vertical-align: top;\n",
       "    }\n",
       "\n",
       "    .dataframe thead th {\n",
       "        text-align: right;\n",
       "    }\n",
       "</style>\n",
       "<table border=\"1\" class=\"dataframe\">\n",
       "  <thead>\n",
       "    <tr style=\"text-align: right;\">\n",
       "      <th></th>\n",
       "      <th>application_date</th>\n",
       "      <th>segment</th>\n",
       "      <th>case_count</th>\n",
       "      <th>day_of_week</th>\n",
       "      <th>day_of_month</th>\n",
       "      <th>month</th>\n",
       "      <th>year</th>\n",
       "      <th>holiday</th>\n",
       "      <th>numeric_date</th>\n",
       "    </tr>\n",
       "  </thead>\n",
       "  <tbody>\n",
       "    <tr>\n",
       "      <td>0</td>\n",
       "      <td>2017-04-01</td>\n",
       "      <td>1</td>\n",
       "      <td>299.0</td>\n",
       "      <td>5</td>\n",
       "      <td>1</td>\n",
       "      <td>4</td>\n",
       "      <td>2017</td>\n",
       "      <td>0</td>\n",
       "      <td>736420</td>\n",
       "    </tr>\n",
       "    <tr>\n",
       "      <td>1</td>\n",
       "      <td>2017-04-01</td>\n",
       "      <td>2</td>\n",
       "      <td>897.0</td>\n",
       "      <td>5</td>\n",
       "      <td>1</td>\n",
       "      <td>4</td>\n",
       "      <td>2017</td>\n",
       "      <td>0</td>\n",
       "      <td>736420</td>\n",
       "    </tr>\n",
       "  </tbody>\n",
       "</table>\n",
       "</div>"
      ],
      "text/plain": [
       "  application_date  segment  case_count  day_of_week  day_of_month  month  \\\n",
       "0       2017-04-01        1       299.0            5             1      4   \n",
       "1       2017-04-01        2       897.0            5             1      4   \n",
       "\n",
       "   year  holiday  numeric_date  \n",
       "0  2017        0        736420  \n",
       "1  2017        0        736420  "
      ]
     },
     "execution_count": 161,
     "metadata": {},
     "output_type": "execute_result"
    }
   ],
   "source": [
    "df_processing_copy.head(2)"
   ]
  },
  {
   "cell_type": "code",
   "execution_count": 163,
   "metadata": {},
   "outputs": [
    {
     "name": "stdout",
     "output_type": "stream",
     "text": [
      "X count:  1650\n",
      "y count:  1650\n"
     ]
    }
   ],
   "source": [
    "# Seperating out data based on segments. We will merge the data after test-file prediction before submission\n",
    "X = df_processing_copy[['numeric_date','segment','day_of_week',\n",
    "                                               'day_of_month','month','year','holiday']]\n",
    "y = df_processing_copy[['case_count']]\n",
    "print('X count: ',X['numeric_date'].count())\n",
    "print('y count: ',y['case_count'].count())"
   ]
  },
  {
   "cell_type": "code",
   "execution_count": 165,
   "metadata": {},
   "outputs": [],
   "source": [
    "# Preparing train and validation datasets for both segments\n",
    "X_train = X[:1322]\n",
    "y_train = y[:1322]\n",
    "X_val = X[1322:]\n",
    "y_val = y[1322:]"
   ]
  },
  {
   "cell_type": "code",
   "execution_count": 166,
   "metadata": {},
   "outputs": [
    {
     "name": "stdout",
     "output_type": "stream",
     "text": [
      "Original row count before grouping:  80402\n",
      "Row count after removing unwanted columns:  80402\n",
      "Row count after grouping & sum based on date and segment:  1650\n",
      "X_train count:  1322\n",
      "y_train count:  1322\n",
      "X_val count:  328\n",
      "y_val count:  328\n"
     ]
    }
   ],
   "source": [
    "# Ensuring there is no data leak after transformations\n",
    "print('Original row count before grouping: ',df['application_date'].count())\n",
    "print('Row count after removing unwanted columns: ',df_processing['application_date'].count())\n",
    "print('Row count after grouping & sum based on date and segment: ',df_processing_copy['application_date'].count())\n",
    "print('X_train count: ',X_train.shape[0])\n",
    "print('y_train count: ',y_train.shape[0])\n",
    "print('X_val count: ',X_val.shape[0])\n",
    "print('y_val count: ',y_val.shape[0])"
   ]
  },
  {
   "cell_type": "code",
   "execution_count": 167,
   "metadata": {},
   "outputs": [
    {
     "data": {
      "text/plain": [
       "<matplotlib.axes._subplots.AxesSubplot at 0x1f5413022c8>"
      ]
     },
     "execution_count": 167,
     "metadata": {},
     "output_type": "execute_result"
    },
    {
     "data": {
      "image/png": "[encoded data removed]",
      "text/plain": [
       "<Figure size 1440x360 with 1 Axes>"
      ]
     },
     "metadata": {
      "needs_background": "light"
     },
     "output_type": "display_data"
    }
   ],
   "source": [
    "df_processing_copy.plot(x='application_date',y='case_count',legend=True,figsize=(20,5))\n",
    "#plt.ylim(100,250)"
   ]
  },
  {
   "cell_type": "code",
   "execution_count": 126,
   "metadata": {},
   "outputs": [],
   "source": [
    "#df_seg1[(df_seg1['application_date'] >= '2018-10-20') & (df_seg1['application_date'] <= '2018-11-20')].plot(x='application_date',y='case_count',legend=True,figsize=(20,5))"
   ]
  },
  {
   "cell_type": "code",
   "execution_count": 168,
   "metadata": {},
   "outputs": [],
   "source": [
    "# We are using Decision Tree for prediction. \n",
    "from sklearn.tree import DecisionTreeRegressor\n",
    "model = DecisionTreeRegressor(random_state=0)"
   ]
  },
  {
   "cell_type": "code",
   "execution_count": 169,
   "metadata": {},
   "outputs": [
    {
     "data": {
      "text/plain": [
       "DecisionTreeRegressor(criterion='mse', max_depth=None, max_features=None,\n",
       "                      max_leaf_nodes=None, min_impurity_decrease=0.0,\n",
       "                      min_impurity_split=None, min_samples_leaf=1,\n",
       "                      min_samples_split=2, min_weight_fraction_leaf=0.0,\n",
       "                      presort=False, random_state=0, splitter='best')"
      ]
     },
     "execution_count": 169,
     "metadata": {},
     "output_type": "execute_result"
    }
   ],
   "source": [
    "model.fit(X_train,y_train)"
   ]
  },
  {
   "cell_type": "code",
   "execution_count": 171,
   "metadata": {},
   "outputs": [],
   "source": [
    "y_pred = model.predict(X_val)"
   ]
  },
  {
   "cell_type": "code",
   "execution_count": 173,
   "metadata": {},
   "outputs": [],
   "source": [
    "def mean_absolute_percentage_error(y_true, y_pred): \n",
    "    y_true, y_pred = np.array(y_true), np.array(y_pred)\n",
    "    return np.mean(np.abs((y_true - y_pred) / y_true)) * 100"
   ]
  },
  {
   "cell_type": "code",
   "execution_count": 174,
   "metadata": {},
   "outputs": [
    {
     "data": {
      "text/plain": [
       "499.24231599201113"
      ]
     },
     "execution_count": 174,
     "metadata": {},
     "output_type": "execute_result"
    }
   ],
   "source": [
    "mean_absolute_percentage_error(y_val,y_pred)"
   ]
  },
  {
   "cell_type": "code",
   "execution_count": 199,
   "metadata": {},
   "outputs": [],
   "source": [
    "df_test = pd.read_csv('LTFS_Hackathon_test_file.csv')\n",
    "df_test['application_date'] = df_test['application_date'].apply(pd.to_datetime)\n",
    "df_test = df_test.sort_values('application_date')\n",
    "day_of_week  = []\n",
    "day_of_month = []\n",
    "month        = []\n",
    "year         = []\n",
    "holiday      = []\n",
    "for i in range(0,len(df_test)):\n",
    "    day_of_week.append(df_test['application_date'][i].weekday())\n",
    "    day_of_month.append(df_test['application_date'][i].day)\n",
    "    month.append(df_test['application_date'][i].month)\n",
    "    year.append(df_test['application_date'][i].year)\n",
    "    df_test['application_date'].map(dt.datetime.toordinal)\n",
    "    if df_test['application_date'][i].strftime('%Y-%m-%d') in india_holidays:\n",
    "        holiday.append(1)\n",
    "    else:\n",
    "        holiday.append(0)\n",
    "df_test['day_of_week'] = day_of_week\n",
    "df_test['day_of_month'] = day_of_month\n",
    "df_test['month'] = month\n",
    "df_test['year'] = year\n",
    "df_test['holiday'] = holiday\n",
    "df_test['numeric_date']=df_test['application_date'].map(dt.datetime.toordinal)\n",
    "X_submission = df_test\n",
    "X_test = df_test[['numeric_date','segment','day_of_week',\n",
    "                                               'day_of_month','month','year','holiday']]"
   ]
  },
  {
   "cell_type": "code",
   "execution_count": 200,
   "metadata": {
    "scrolled": true
   },
   "outputs": [],
   "source": [
    "y_test = model.predict(X_test)"
   ]
  },
  {
   "cell_type": "code",
   "execution_count": 201,
   "metadata": {},
   "outputs": [],
   "source": [
    "X_submission['case_count'] = y_test"
   ]
  },
  {
   "cell_type": "code",
   "execution_count": 205,
   "metadata": {},
   "outputs": [],
   "source": [
    "X_submission = X_submission[['id','application_date','segment','case_count']]"
   ]
  },
  {
   "cell_type": "code",
   "execution_count": 206,
   "metadata": {},
   "outputs": [],
   "source": [
    "# Changing the case_count from float to int\n",
    "X_submission['case_count'] = X_submission['case_count'].astype(int)"
   ]
  },
  {
   "cell_type": "code",
   "execution_count": 208,
   "metadata": {},
   "outputs": [],
   "source": [
    "# Exporting the dataframe to CSV file which will be submitted\n",
    "pd.DataFrame(X_submission).to_csv(\"Submission_file_vX.csv\",index=False)"
   ]
  },
  {
   "cell_type": "code",
   "execution_count": null,
   "metadata": {},
   "outputs": [],
   "source": []
  }
 ],
 "metadata": {
  "kernelspec": {
   "display_name": "Python 3",
   "language": "python",
   "name": "python3"
  },
  "language_info": {
   "codemirror_mode": {
    "name": "ipython",
    "version": 3
   },
   "file_extension": ".py",
   "mimetype": "text/x-python",
   "name": "python",
   "nbconvert_exporter": "python",
   "pygments_lexer": "ipython3",
   "version": "3.7.4"
  }
 },
 "nbformat": 4,
 "nbformat_minor": 2
}
