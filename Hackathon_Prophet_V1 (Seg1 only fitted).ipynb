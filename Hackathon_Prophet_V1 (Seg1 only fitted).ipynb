{
 "cells": [
  {
   "cell_type": "code",
   "execution_count": null,
   "metadata": {},
   "outputs": [],
   "source": [
    "# Prophet with seg1 data only used for model fitting"
   ]
  },
  {
   "cell_type": "code",
   "execution_count": 1,
   "metadata": {},
   "outputs": [],
   "source": [
    "import numpy as np\n",
    "import pandas as pd\n",
    "import matplotlib.pyplot as plt\n",
    "import scipy.cluster.hierarchy as sch\n",
    "from sklearn.preprocessing import Imputer,LabelEncoder, OneHotEncoder\n",
    "from sklearn.model_selection import train_test_split\n",
    "from sklearn.preprocessing import StandardScaler\n",
    "import statsmodels.formula.api as sm"
   ]
  },
  {
   "cell_type": "code",
   "execution_count": 2,
   "metadata": {},
   "outputs": [],
   "source": [
    "# Importing dataset to a dataframe\n",
    "df = pd.read_csv('train_file.csv')"
   ]
  },
  {
   "cell_type": "code",
   "execution_count": 3,
   "metadata": {},
   "outputs": [
    {
     "data": {
      "text/plain": [
       "Index(['branch_id', 'zone'], dtype='object')"
      ]
     },
     "execution_count": 3,
     "metadata": {},
     "output_type": "execute_result"
    }
   ],
   "source": [
    "# Checking if application_date, segment columns have any null values\n",
    "null_columns=df.columns[df.isnull().any()]\n",
    "null_columns"
   ]
  },
  {
   "cell_type": "code",
   "execution_count": 4,
   "metadata": {},
   "outputs": [],
   "source": [
    "# Changing 'application date' to date format\n",
    "df['application_date'] = df['application_date'].apply(pd.to_datetime)"
   ]
  },
  {
   "cell_type": "code",
   "execution_count": 5,
   "metadata": {},
   "outputs": [],
   "source": [
    "# Creating new dataframe df_processing removing unwanted columns. We are removing these because test file doesn't have it\n",
    "df_processing = df[['application_date','segment','case_count']]"
   ]
  },
  {
   "cell_type": "code",
   "execution_count": 6,
   "metadata": {},
   "outputs": [
    {
     "data": {
      "text/plain": [
       "application_date    datetime64[ns]\n",
       "segment                      int64\n",
       "case_count                 float64\n",
       "dtype: object"
      ]
     },
     "execution_count": 6,
     "metadata": {},
     "output_type": "execute_result"
    }
   ],
   "source": [
    "# Verifying dtypes are as expected\n",
    "df_processing.dtypes"
   ]
  },
  {
   "cell_type": "code",
   "execution_count": 7,
   "metadata": {},
   "outputs": [],
   "source": [
    "# Sorting based on application_date\n",
    "df_processing = df_processing.sort_values('application_date')"
   ]
  },
  {
   "cell_type": "code",
   "execution_count": 8,
   "metadata": {},
   "outputs": [],
   "source": [
    "# Summing up case_count based on date and segment\n",
    "df_processing_copy = df_processing.groupby(['application_date','segment'],as_index = False).sum()"
   ]
  },
  {
   "cell_type": "code",
   "execution_count": 9,
   "metadata": {},
   "outputs": [],
   "source": [
    "# Seperating out data based on segments. We will merge the data after test-file prediction before submission\n",
    "df_seg1 = df_processing_copy[df_processing_copy['segment'] == 1]\n",
    "df_seg2 = df_processing_copy[df_processing_copy['segment'] == 2]"
   ]
  },
  {
   "cell_type": "code",
   "execution_count": 10,
   "metadata": {},
   "outputs": [
    {
     "name": "stderr",
     "output_type": "stream",
     "text": [
      "C:\\Users\\annbhatt\\AppData\\Local\\Continuum\\anaconda3\\lib\\site-packages\\ipykernel_launcher.py:1: SettingWithCopyWarning: \n",
      "A value is trying to be set on a copy of a slice from a DataFrame.\n",
      "Try using .loc[row_indexer,col_indexer] = value instead\n",
      "\n",
      "See the caveats in the documentation: http://pandas.pydata.org/pandas-docs/stable/user_guide/indexing.html#returning-a-view-versus-a-copy\n",
      "  \"\"\"Entry point for launching an IPython kernel.\n",
      "C:\\Users\\annbhatt\\AppData\\Local\\Continuum\\anaconda3\\lib\\site-packages\\ipykernel_launcher.py:2: SettingWithCopyWarning: \n",
      "A value is trying to be set on a copy of a slice from a DataFrame.\n",
      "Try using .loc[row_indexer,col_indexer] = value instead\n",
      "\n",
      "See the caveats in the documentation: http://pandas.pydata.org/pandas-docs/stable/user_guide/indexing.html#returning-a-view-versus-a-copy\n",
      "  \n"
     ]
    }
   ],
   "source": [
    "df_seg1['application_date'] = df_seg1['application_date'].apply(pd.to_datetime)\n",
    "df_seg2['application_date'] = df_seg2['application_date'].apply(pd.to_datetime)"
   ]
  },
  {
   "cell_type": "code",
   "execution_count": 11,
   "metadata": {},
   "outputs": [],
   "source": [
    "X_seg1 = df_seg1\n",
    "X_seg2 = df_seg2"
   ]
  },
  {
   "cell_type": "code",
   "execution_count": 12,
   "metadata": {},
   "outputs": [],
   "source": [
    "# Preparing train and validation datasets for both segments\n",
    "X_train_seg1 = X_seg1[:601]\n",
    "X_train_seg2 = X_seg2[:601]\n",
    "X_test_seg1 = X_seg1[601:]\n",
    "X_test_seg2 = X_seg2[601:]"
   ]
  },
  {
   "cell_type": "code",
   "execution_count": 13,
   "metadata": {},
   "outputs": [
    {
     "name": "stdout",
     "output_type": "stream",
     "text": [
      "Original row count before grouping:  80402\n",
      "Row count after removing unwanted columns:  80402\n",
      "Row count after grouping & sum based on date and segment:  1650\n",
      "X_train seg1 count:  601\n",
      "X_test seg1 count:  205\n",
      "X_train seg2 count:  601\n",
      "X_test seg2 count:  243\n"
     ]
    }
   ],
   "source": [
    "# Ensuring there is no data leak after transformation\n",
    "print('Original row count before grouping: ',df['application_date'].count())\n",
    "print('Row count after removing unwanted columns: ',df_processing['application_date'].count())\n",
    "print('Row count after grouping & sum based on date and segment: ',df_processing_copy['application_date'].count())\n",
    "print('X_train seg1 count: ',X_train_seg1.shape[0])\n",
    "print('X_test seg1 count: ', X_test_seg1.shape[0])\n",
    "print('X_train seg2 count: ',X_train_seg2.shape[0])\n",
    "print('X_test seg2 count: ', X_test_seg2.shape[0])"
   ]
  },
  {
   "cell_type": "code",
   "execution_count": 14,
   "metadata": {},
   "outputs": [
    {
     "name": "stderr",
     "output_type": "stream",
     "text": [
      "ERROR:fbprophet:Importing plotly failed. Interactive plots will not work.\n"
     ]
    }
   ],
   "source": [
    "# We are using prophet for prediction.\n",
    "from fbprophet import Prophet\n",
    "model = Prophet()"
   ]
  },
  {
   "cell_type": "code",
   "execution_count": 15,
   "metadata": {},
   "outputs": [],
   "source": [
    "# Removing 'Segment column' and retaining only 'application_date' & 'case_count'. We are trying to predict 'case_count'\n",
    "# based on 'application_date'\n",
    "X_train_seg1 = X_train_seg1[['application_date','case_count']]\n",
    "X_test_seg1 = X_test_seg1[['application_date','case_count']]"
   ]
  },
  {
   "cell_type": "code",
   "execution_count": 16,
   "metadata": {},
   "outputs": [],
   "source": [
    "# Prophet needs independent variable column named as 'ds' and target variable column named as 'y'. Renaming logic below.\n",
    "X_train_seg1.rename(columns={'case_count': 'y', 'application_date': 'ds'}, inplace=True)\n",
    "X_test_seg1.rename(columns={'case_count': 'y', 'application_date': 'ds'}, inplace=True)"
   ]
  },
  {
   "cell_type": "code",
   "execution_count": 17,
   "metadata": {},
   "outputs": [
    {
     "name": "stderr",
     "output_type": "stream",
     "text": [
      "INFO:numexpr.utils:NumExpr defaulting to 8 threads.\n",
      "INFO:fbprophet:Disabling yearly seasonality. Run prophet with yearly_seasonality=True to override this.\n",
      "INFO:fbprophet:Disabling daily seasonality. Run prophet with daily_seasonality=True to override this.\n"
     ]
    },
    {
     "data": {
      "text/plain": [
       "<fbprophet.forecaster.Prophet at 0x1dc551d5888>"
      ]
     },
     "execution_count": 17,
     "metadata": {},
     "output_type": "execute_result"
    }
   ],
   "source": [
    "# Fitting the model using seg1 data alone\n",
    "model.fit(X_train_seg1)"
   ]
  },
  {
   "cell_type": "code",
   "execution_count": 18,
   "metadata": {},
   "outputs": [],
   "source": [
    "#Predicting on validation data for seg 1\n",
    "case_count_pred = model.make_future_dataframe(periods=len(X_test_seg1),include_history=False)\n",
    "X_test_pred = model.predict(case_count_pred)"
   ]
  },
  {
   "cell_type": "code",
   "execution_count": 21,
   "metadata": {},
   "outputs": [],
   "source": [
    "y_pred_seg1 = X_test_pred['yhat'].astype(int).to_numpy()\n",
    "y_val_seg1  = df_seg1[601:]['case_count'].to_numpy()"
   ]
  },
  {
   "cell_type": "code",
   "execution_count": 22,
   "metadata": {},
   "outputs": [],
   "source": [
    "#print('Accuracy of Seg1 :', metrics.accuracy_score(y_val_seg1, y_pred_seg1))\n",
    "def mean_absolute_percentage_error(y_true, y_pred): \n",
    "    y_true, y_pred = np.array(y_true), np.array(y_pred)\n",
    "    return np.mean(np.abs((y_true - y_pred) / y_true)) * 100"
   ]
  },
  {
   "cell_type": "code",
   "execution_count": 23,
   "metadata": {},
   "outputs": [
    {
     "data": {
      "text/plain": [
       "277.4434929242776"
      ]
     },
     "execution_count": 23,
     "metadata": {},
     "output_type": "execute_result"
    }
   ],
   "source": [
    "mean_absolute_percentage_error(y_val_seg1,y_pred_seg1)"
   ]
  },
  {
   "cell_type": "code",
   "execution_count": 24,
   "metadata": {},
   "outputs": [
    {
     "data": {
      "text/html": [
       "<div>\n",
       "<style scoped>\n",
       "    .dataframe tbody tr th:only-of-type {\n",
       "        vertical-align: middle;\n",
       "    }\n",
       "\n",
       "    .dataframe tbody tr th {\n",
       "        vertical-align: top;\n",
       "    }\n",
       "\n",
       "    .dataframe thead th {\n",
       "        text-align: right;\n",
       "    }\n",
       "</style>\n",
       "<table border=\"1\" class=\"dataframe\">\n",
       "  <thead>\n",
       "    <tr style=\"text-align: right;\">\n",
       "      <th></th>\n",
       "      <th>id</th>\n",
       "      <th>application_date</th>\n",
       "      <th>segment</th>\n",
       "    </tr>\n",
       "  </thead>\n",
       "  <tbody>\n",
       "    <tr>\n",
       "      <td>0</td>\n",
       "      <td>1</td>\n",
       "      <td>2019-07-06</td>\n",
       "      <td>1</td>\n",
       "    </tr>\n",
       "  </tbody>\n",
       "</table>\n",
       "</div>"
      ],
      "text/plain": [
       "   id application_date  segment\n",
       "0   1       2019-07-06        1"
      ]
     },
     "execution_count": 24,
     "metadata": {},
     "output_type": "execute_result"
    }
   ],
   "source": [
    "df_test = pd.read_csv('test_file.csv')\n",
    "df_test.head(1)"
   ]
  },
  {
   "cell_type": "code",
   "execution_count": 25,
   "metadata": {},
   "outputs": [
    {
     "data": {
      "text/html": [
       "<div>\n",
       "<style scoped>\n",
       "    .dataframe tbody tr th:only-of-type {\n",
       "        vertical-align: middle;\n",
       "    }\n",
       "\n",
       "    .dataframe tbody tr th {\n",
       "        vertical-align: top;\n",
       "    }\n",
       "\n",
       "    .dataframe thead th {\n",
       "        text-align: right;\n",
       "    }\n",
       "</style>\n",
       "<table border=\"1\" class=\"dataframe\">\n",
       "  <thead>\n",
       "    <tr style=\"text-align: right;\">\n",
       "      <th></th>\n",
       "      <th>id</th>\n",
       "      <th>application_date</th>\n",
       "      <th>segment</th>\n",
       "    </tr>\n",
       "  </thead>\n",
       "  <tbody>\n",
       "    <tr>\n",
       "      <td>0</td>\n",
       "      <td>1</td>\n",
       "      <td>2019-07-06</td>\n",
       "      <td>1</td>\n",
       "    </tr>\n",
       "  </tbody>\n",
       "</table>\n",
       "</div>"
      ],
      "text/plain": [
       "   id application_date  segment\n",
       "0   1       2019-07-06        1"
      ]
     },
     "execution_count": 25,
     "metadata": {},
     "output_type": "execute_result"
    }
   ],
   "source": [
    "# Changing 'application date' to date format\n",
    "df_test['application_date'] = df_test['application_date'].apply(pd.to_datetime)\n",
    "df_test.head(1)           "
   ]
  },
  {
   "cell_type": "code",
   "execution_count": 26,
   "metadata": {},
   "outputs": [],
   "source": [
    "# Seperating both segments\n",
    "df_test_seg1 = df_test[df_test['segment'] == 1]\n",
    "df_test_seg2 = df_test[df_test['segment'] == 2]"
   ]
  },
  {
   "cell_type": "code",
   "execution_count": 28,
   "metadata": {},
   "outputs": [],
   "source": [
    "# Keeping only 'application_date' column and sorting based on it \n",
    "df_test_seg1_p = df_test_seg1[['application_date']].sort_values('application_date')\n",
    "df_test_seg2_p = df_test_seg2[['application_date']].sort_values('application_date')"
   ]
  },
  {
   "cell_type": "code",
   "execution_count": 29,
   "metadata": {},
   "outputs": [],
   "source": [
    "# Changing the name of independent variable to 'ds'\n",
    "df_test_seg1_p.rename(columns={'application_date': 'ds'}, inplace=True)\n",
    "df_test_seg2_p.rename(columns={'application_date': 'ds'}, inplace=True)"
   ]
  },
  {
   "cell_type": "code",
   "execution_count": 30,
   "metadata": {
    "scrolled": true
   },
   "outputs": [],
   "source": [
    "X_test_pred_seg1 = model.predict(df_test_seg1_p)\n",
    "X_test_pred_seg2 = model.predict(df_test_seg2_p)"
   ]
  },
  {
   "cell_type": "code",
   "execution_count": 31,
   "metadata": {},
   "outputs": [
    {
     "data": {
      "text/html": [
       "<div>\n",
       "<style scoped>\n",
       "    .dataframe tbody tr th:only-of-type {\n",
       "        vertical-align: middle;\n",
       "    }\n",
       "\n",
       "    .dataframe tbody tr th {\n",
       "        vertical-align: top;\n",
       "    }\n",
       "\n",
       "    .dataframe thead th {\n",
       "        text-align: right;\n",
       "    }\n",
       "</style>\n",
       "<table border=\"1\" class=\"dataframe\">\n",
       "  <thead>\n",
       "    <tr style=\"text-align: right;\">\n",
       "      <th></th>\n",
       "      <th>ds</th>\n",
       "      <th>trend</th>\n",
       "      <th>yhat_lower</th>\n",
       "      <th>yhat_upper</th>\n",
       "      <th>trend_lower</th>\n",
       "      <th>trend_upper</th>\n",
       "      <th>additive_terms</th>\n",
       "      <th>additive_terms_lower</th>\n",
       "      <th>additive_terms_upper</th>\n",
       "      <th>weekly</th>\n",
       "      <th>weekly_lower</th>\n",
       "      <th>weekly_upper</th>\n",
       "      <th>multiplicative_terms</th>\n",
       "      <th>multiplicative_terms_lower</th>\n",
       "      <th>multiplicative_terms_upper</th>\n",
       "      <th>yhat</th>\n",
       "    </tr>\n",
       "  </thead>\n",
       "  <tbody>\n",
       "    <tr>\n",
       "      <td>0</td>\n",
       "      <td>2019-07-06</td>\n",
       "      <td>4991.306528</td>\n",
       "      <td>2161.242821</td>\n",
       "      <td>7593.607679</td>\n",
       "      <td>4934.186014</td>\n",
       "      <td>5043.721561</td>\n",
       "      <td>-80.557046</td>\n",
       "      <td>-80.557046</td>\n",
       "      <td>-80.557046</td>\n",
       "      <td>-80.557046</td>\n",
       "      <td>-80.557046</td>\n",
       "      <td>-80.557046</td>\n",
       "      <td>0.0</td>\n",
       "      <td>0.0</td>\n",
       "      <td>0.0</td>\n",
       "      <td>4910.749482</td>\n",
       "    </tr>\n",
       "    <tr>\n",
       "      <td>1</td>\n",
       "      <td>2019-07-07</td>\n",
       "      <td>4996.508594</td>\n",
       "      <td>1313.166815</td>\n",
       "      <td>6676.963981</td>\n",
       "      <td>4939.145683</td>\n",
       "      <td>5049.372791</td>\n",
       "      <td>-1067.950724</td>\n",
       "      <td>-1067.950724</td>\n",
       "      <td>-1067.950724</td>\n",
       "      <td>-1067.950724</td>\n",
       "      <td>-1067.950724</td>\n",
       "      <td>-1067.950724</td>\n",
       "      <td>0.0</td>\n",
       "      <td>0.0</td>\n",
       "      <td>0.0</td>\n",
       "      <td>3928.557870</td>\n",
       "    </tr>\n",
       "  </tbody>\n",
       "</table>\n",
       "</div>"
      ],
      "text/plain": [
       "          ds        trend   yhat_lower   yhat_upper  trend_lower  trend_upper  \\\n",
       "0 2019-07-06  4991.306528  2161.242821  7593.607679  4934.186014  5043.721561   \n",
       "1 2019-07-07  4996.508594  1313.166815  6676.963981  4939.145683  5049.372791   \n",
       "\n",
       "   additive_terms  additive_terms_lower  additive_terms_upper       weekly  \\\n",
       "0      -80.557046            -80.557046            -80.557046   -80.557046   \n",
       "1    -1067.950724          -1067.950724          -1067.950724 -1067.950724   \n",
       "\n",
       "   weekly_lower  weekly_upper  multiplicative_terms  \\\n",
       "0    -80.557046    -80.557046                   0.0   \n",
       "1  -1067.950724  -1067.950724                   0.0   \n",
       "\n",
       "   multiplicative_terms_lower  multiplicative_terms_upper         yhat  \n",
       "0                         0.0                         0.0  4910.749482  \n",
       "1                         0.0                         0.0  3928.557870  "
      ]
     },
     "execution_count": 31,
     "metadata": {},
     "output_type": "execute_result"
    }
   ],
   "source": [
    "X_test_pred_seg1.head(2)"
   ]
  },
  {
   "cell_type": "code",
   "execution_count": 32,
   "metadata": {},
   "outputs": [],
   "source": [
    "# Selecting only 'ds' & 'yhat' columns and renaming them back\n",
    "X_test_pred_seg1 = X_test_pred_seg1[['ds','yhat']]\n",
    "X_test_pred_seg1.rename(columns={'ds':'application_date','yhat': 'case_count'}, inplace=True)\n",
    "X_test_pred_seg2 = X_test_pred_seg2[['ds','yhat']]\n",
    "X_test_pred_seg2.rename(columns={'ds':'application_date','yhat': 'case_count'}, inplace=True)"
   ]
  },
  {
   "cell_type": "code",
   "execution_count": 33,
   "metadata": {},
   "outputs": [],
   "source": [
    "# Merging the predicted case_count columns(yhat) with remaining columns from original test file \n",
    "test_seg1_final = pd.merge(df_test_seg1, X_test_pred_seg1, on='application_date')\n",
    "test_seg2_final = pd.merge(df_test_seg2, X_test_pred_seg2, on='application_date')"
   ]
  },
  {
   "cell_type": "code",
   "execution_count": 34,
   "metadata": {},
   "outputs": [],
   "source": [
    "# Concatenating both segments to prepare submission file\n",
    "test_final_pred = pd.concat([test_seg1_final, test_seg2_final], ignore_index=True, sort =False)"
   ]
  },
  {
   "cell_type": "code",
   "execution_count": 35,
   "metadata": {},
   "outputs": [],
   "source": [
    "# Changing the case_count from float to int\n",
    "test_final_pred['case_count'] = test_final_pred['case_count'].astype(int)"
   ]
  },
  {
   "cell_type": "code",
   "execution_count": 36,
   "metadata": {},
   "outputs": [],
   "source": [
    "# Exporting the dataframe to CSV file which will be submitted\n",
    "pd.DataFrame(test_final_pred).to_csv(\"file3.csv\",index=False)"
   ]
  },
  {
   "cell_type": "code",
   "execution_count": null,
   "metadata": {},
   "outputs": [],
   "source": []
  }
 ],
 "metadata": {
  "kernelspec": {
   "display_name": "Python 3",
   "language": "python",
   "name": "python3"
  },
  "language_info": {
   "codemirror_mode": {
    "name": "ipython",
    "version": 3
   },
   "file_extension": ".py",
   "mimetype": "text/x-python",
   "name": "python",
   "nbconvert_exporter": "python",
   "pygments_lexer": "ipython3",
   "version": "3.7.4"
  }
 },
 "nbformat": 4,
 "nbformat_minor": 2
}
