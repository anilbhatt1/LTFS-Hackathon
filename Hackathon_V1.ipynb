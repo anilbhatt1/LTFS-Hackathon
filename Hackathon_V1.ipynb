{
 "cells": [
  {
   "cell_type": "code",
   "execution_count": 1,
   "metadata": {},
   "outputs": [],
   "source": [
    "import numpy as np\n",
    "import pandas as pd\n",
    "import matplotlib.pyplot as plt\n",
    "import scipy.cluster.hierarchy as sch\n",
    "from sklearn.preprocessing import Imputer,LabelEncoder, OneHotEncoder\n",
    "from sklearn.model_selection import train_test_split\n",
    "from sklearn.preprocessing import StandardScaler\n",
    "import statsmodels.formula.api as sm"
   ]
  },
  {
   "cell_type": "code",
   "execution_count": 2,
   "metadata": {},
   "outputs": [],
   "source": [
    "df = pd.read_csv('train_file.csv')"
   ]
  },
  {
   "cell_type": "code",
   "execution_count": 4,
   "metadata": {},
   "outputs": [
    {
     "data": {
      "text/html": [
       "<div>\n",
       "<style scoped>\n",
       "    .dataframe tbody tr th:only-of-type {\n",
       "        vertical-align: middle;\n",
       "    }\n",
       "\n",
       "    .dataframe tbody tr th {\n",
       "        vertical-align: top;\n",
       "    }\n",
       "\n",
       "    .dataframe thead th {\n",
       "        text-align: right;\n",
       "    }\n",
       "</style>\n",
       "<table border=\"1\" class=\"dataframe\">\n",
       "  <thead>\n",
       "    <tr style=\"text-align: right;\">\n",
       "      <th></th>\n",
       "      <th>application_date</th>\n",
       "      <th>segment</th>\n",
       "      <th>branch_id</th>\n",
       "      <th>state</th>\n",
       "      <th>zone</th>\n",
       "      <th>case_count</th>\n",
       "    </tr>\n",
       "  </thead>\n",
       "  <tbody>\n",
       "    <tr>\n",
       "      <td>0</td>\n",
       "      <td>2017-04-01</td>\n",
       "      <td>1</td>\n",
       "      <td>1.0</td>\n",
       "      <td>WEST BENGAL</td>\n",
       "      <td>EAST</td>\n",
       "      <td>40.0</td>\n",
       "    </tr>\n",
       "    <tr>\n",
       "      <td>1</td>\n",
       "      <td>2017-04-03</td>\n",
       "      <td>1</td>\n",
       "      <td>1.0</td>\n",
       "      <td>WEST BENGAL</td>\n",
       "      <td>EAST</td>\n",
       "      <td>5.0</td>\n",
       "    </tr>\n",
       "    <tr>\n",
       "      <td>2</td>\n",
       "      <td>2017-04-04</td>\n",
       "      <td>1</td>\n",
       "      <td>1.0</td>\n",
       "      <td>WEST BENGAL</td>\n",
       "      <td>EAST</td>\n",
       "      <td>4.0</td>\n",
       "    </tr>\n",
       "    <tr>\n",
       "      <td>3</td>\n",
       "      <td>2017-04-05</td>\n",
       "      <td>1</td>\n",
       "      <td>1.0</td>\n",
       "      <td>WEST BENGAL</td>\n",
       "      <td>EAST</td>\n",
       "      <td>113.0</td>\n",
       "    </tr>\n",
       "    <tr>\n",
       "      <td>4</td>\n",
       "      <td>2017-04-07</td>\n",
       "      <td>1</td>\n",
       "      <td>1.0</td>\n",
       "      <td>WEST BENGAL</td>\n",
       "      <td>EAST</td>\n",
       "      <td>76.0</td>\n",
       "    </tr>\n",
       "  </tbody>\n",
       "</table>\n",
       "</div>"
      ],
      "text/plain": [
       "  application_date  segment  branch_id        state  zone  case_count\n",
       "0       2017-04-01        1        1.0  WEST BENGAL  EAST        40.0\n",
       "1       2017-04-03        1        1.0  WEST BENGAL  EAST         5.0\n",
       "2       2017-04-04        1        1.0  WEST BENGAL  EAST         4.0\n",
       "3       2017-04-05        1        1.0  WEST BENGAL  EAST       113.0\n",
       "4       2017-04-07        1        1.0  WEST BENGAL  EAST        76.0"
      ]
     },
     "execution_count": 4,
     "metadata": {},
     "output_type": "execute_result"
    }
   ],
   "source": [
    "df.head()"
   ]
  },
  {
   "cell_type": "code",
   "execution_count": 8,
   "metadata": {},
   "outputs": [
    {
     "data": {
      "text/plain": [
       "Index(['branch_id', 'zone'], dtype='object')"
      ]
     },
     "execution_count": 8,
     "metadata": {},
     "output_type": "execute_result"
    }
   ],
   "source": [
    "null_columns=df.columns[df.isnull().any()]\n",
    "null_columns"
   ]
  },
  {
   "cell_type": "code",
   "execution_count": 11,
   "metadata": {},
   "outputs": [
    {
     "data": {
      "text/plain": [
       "0"
      ]
     },
     "execution_count": 11,
     "metadata": {},
     "output_type": "execute_result"
    }
   ],
   "source": [
    "df['application_date'].isnull().sum()"
   ]
  },
  {
   "cell_type": "code",
   "execution_count": 12,
   "metadata": {},
   "outputs": [
    {
     "data": {
      "text/plain": [
       "0"
      ]
     },
     "execution_count": 12,
     "metadata": {},
     "output_type": "execute_result"
    }
   ],
   "source": [
    "df['segment'].isnull().sum()"
   ]
  },
  {
   "cell_type": "code",
   "execution_count": 14,
   "metadata": {},
   "outputs": [
    {
     "data": {
      "text/plain": [
       "application_date     object\n",
       "segment               int64\n",
       "branch_id           float64\n",
       "state                object\n",
       "zone                 object\n",
       "case_count          float64\n",
       "dtype: object"
      ]
     },
     "execution_count": 14,
     "metadata": {},
     "output_type": "execute_result"
    }
   ],
   "source": [
    "df.dtypes"
   ]
  },
  {
   "cell_type": "code",
   "execution_count": 18,
   "metadata": {},
   "outputs": [],
   "source": [
    "df['application_date'] = df['application_date'].apply(pd.to_datetime)"
   ]
  },
  {
   "cell_type": "code",
   "execution_count": 19,
   "metadata": {},
   "outputs": [
    {
     "data": {
      "text/plain": [
       "application_date    datetime64[ns]\n",
       "segment                      int64\n",
       "branch_id                  float64\n",
       "state                       object\n",
       "zone                        object\n",
       "case_count                 float64\n",
       "dtype: object"
      ]
     },
     "execution_count": 19,
     "metadata": {},
     "output_type": "execute_result"
    }
   ],
   "source": [
    "df.dtypes"
   ]
  },
  {
   "cell_type": "code",
   "execution_count": 20,
   "metadata": {},
   "outputs": [
    {
     "data": {
      "text/html": [
       "<div>\n",
       "<style scoped>\n",
       "    .dataframe tbody tr th:only-of-type {\n",
       "        vertical-align: middle;\n",
       "    }\n",
       "\n",
       "    .dataframe tbody tr th {\n",
       "        vertical-align: top;\n",
       "    }\n",
       "\n",
       "    .dataframe thead th {\n",
       "        text-align: right;\n",
       "    }\n",
       "</style>\n",
       "<table border=\"1\" class=\"dataframe\">\n",
       "  <thead>\n",
       "    <tr style=\"text-align: right;\">\n",
       "      <th></th>\n",
       "      <th>application_date</th>\n",
       "      <th>segment</th>\n",
       "      <th>branch_id</th>\n",
       "      <th>state</th>\n",
       "      <th>zone</th>\n",
       "      <th>case_count</th>\n",
       "    </tr>\n",
       "  </thead>\n",
       "  <tbody>\n",
       "    <tr>\n",
       "      <td>0</td>\n",
       "      <td>2017-04-01</td>\n",
       "      <td>1</td>\n",
       "      <td>1.0</td>\n",
       "      <td>WEST BENGAL</td>\n",
       "      <td>EAST</td>\n",
       "      <td>40.0</td>\n",
       "    </tr>\n",
       "    <tr>\n",
       "      <td>1</td>\n",
       "      <td>2017-04-03</td>\n",
       "      <td>1</td>\n",
       "      <td>1.0</td>\n",
       "      <td>WEST BENGAL</td>\n",
       "      <td>EAST</td>\n",
       "      <td>5.0</td>\n",
       "    </tr>\n",
       "    <tr>\n",
       "      <td>2</td>\n",
       "      <td>2017-04-04</td>\n",
       "      <td>1</td>\n",
       "      <td>1.0</td>\n",
       "      <td>WEST BENGAL</td>\n",
       "      <td>EAST</td>\n",
       "      <td>4.0</td>\n",
       "    </tr>\n",
       "    <tr>\n",
       "      <td>3</td>\n",
       "      <td>2017-04-05</td>\n",
       "      <td>1</td>\n",
       "      <td>1.0</td>\n",
       "      <td>WEST BENGAL</td>\n",
       "      <td>EAST</td>\n",
       "      <td>113.0</td>\n",
       "    </tr>\n",
       "    <tr>\n",
       "      <td>4</td>\n",
       "      <td>2017-04-07</td>\n",
       "      <td>1</td>\n",
       "      <td>1.0</td>\n",
       "      <td>WEST BENGAL</td>\n",
       "      <td>EAST</td>\n",
       "      <td>76.0</td>\n",
       "    </tr>\n",
       "  </tbody>\n",
       "</table>\n",
       "</div>"
      ],
      "text/plain": [
       "  application_date  segment  branch_id        state  zone  case_count\n",
       "0       2017-04-01        1        1.0  WEST BENGAL  EAST        40.0\n",
       "1       2017-04-03        1        1.0  WEST BENGAL  EAST         5.0\n",
       "2       2017-04-04        1        1.0  WEST BENGAL  EAST         4.0\n",
       "3       2017-04-05        1        1.0  WEST BENGAL  EAST       113.0\n",
       "4       2017-04-07        1        1.0  WEST BENGAL  EAST        76.0"
      ]
     },
     "execution_count": 20,
     "metadata": {},
     "output_type": "execute_result"
    }
   ],
   "source": [
    "df.head()"
   ]
  },
  {
   "cell_type": "code",
   "execution_count": 95,
   "metadata": {},
   "outputs": [],
   "source": [
    "df_processing = df[['application_date','segment','case_count']]"
   ]
  },
  {
   "cell_type": "code",
   "execution_count": 96,
   "metadata": {},
   "outputs": [
    {
     "data": {
      "text/html": [
       "<div>\n",
       "<style scoped>\n",
       "    .dataframe tbody tr th:only-of-type {\n",
       "        vertical-align: middle;\n",
       "    }\n",
       "\n",
       "    .dataframe tbody tr th {\n",
       "        vertical-align: top;\n",
       "    }\n",
       "\n",
       "    .dataframe thead th {\n",
       "        text-align: right;\n",
       "    }\n",
       "</style>\n",
       "<table border=\"1\" class=\"dataframe\">\n",
       "  <thead>\n",
       "    <tr style=\"text-align: right;\">\n",
       "      <th></th>\n",
       "      <th>application_date</th>\n",
       "      <th>segment</th>\n",
       "      <th>case_count</th>\n",
       "    </tr>\n",
       "  </thead>\n",
       "  <tbody>\n",
       "    <tr>\n",
       "      <td>0</td>\n",
       "      <td>2017-04-01</td>\n",
       "      <td>1</td>\n",
       "      <td>40.0</td>\n",
       "    </tr>\n",
       "    <tr>\n",
       "      <td>1</td>\n",
       "      <td>2017-04-03</td>\n",
       "      <td>1</td>\n",
       "      <td>5.0</td>\n",
       "    </tr>\n",
       "  </tbody>\n",
       "</table>\n",
       "</div>"
      ],
      "text/plain": [
       "  application_date  segment  case_count\n",
       "0       2017-04-01        1        40.0\n",
       "1       2017-04-03        1         5.0"
      ]
     },
     "execution_count": 96,
     "metadata": {},
     "output_type": "execute_result"
    }
   ],
   "source": [
    "df_processing.head(2)"
   ]
  },
  {
   "cell_type": "code",
   "execution_count": 97,
   "metadata": {},
   "outputs": [
    {
     "data": {
      "text/plain": [
       "application_date    datetime64[ns]\n",
       "segment                      int64\n",
       "case_count                 float64\n",
       "dtype: object"
      ]
     },
     "execution_count": 97,
     "metadata": {},
     "output_type": "execute_result"
    }
   ],
   "source": [
    "df_processing.dtypes"
   ]
  },
  {
   "cell_type": "code",
   "execution_count": 98,
   "metadata": {},
   "outputs": [
    {
     "data": {
      "text/plain": [
       "Index([], dtype='object')"
      ]
     },
     "execution_count": 98,
     "metadata": {},
     "output_type": "execute_result"
    }
   ],
   "source": [
    "null_columns=df_processing.columns[df_processing.isnull().any()]\n",
    "null_columns"
   ]
  },
  {
   "cell_type": "code",
   "execution_count": 99,
   "metadata": {},
   "outputs": [
    {
     "data": {
      "text/html": [
       "<div>\n",
       "<style scoped>\n",
       "    .dataframe tbody tr th:only-of-type {\n",
       "        vertical-align: middle;\n",
       "    }\n",
       "\n",
       "    .dataframe tbody tr th {\n",
       "        vertical-align: top;\n",
       "    }\n",
       "\n",
       "    .dataframe thead th {\n",
       "        text-align: right;\n",
       "    }\n",
       "</style>\n",
       "<table border=\"1\" class=\"dataframe\">\n",
       "  <thead>\n",
       "    <tr style=\"text-align: right;\">\n",
       "      <th></th>\n",
       "      <th>application_date</th>\n",
       "      <th>segment</th>\n",
       "      <th>case_count</th>\n",
       "    </tr>\n",
       "  </thead>\n",
       "  <tbody>\n",
       "    <tr>\n",
       "      <td>0</td>\n",
       "      <td>2017-04-01</td>\n",
       "      <td>1</td>\n",
       "      <td>40.0</td>\n",
       "    </tr>\n",
       "    <tr>\n",
       "      <td>20150</td>\n",
       "      <td>2017-04-01</td>\n",
       "      <td>1</td>\n",
       "      <td>2.0</td>\n",
       "    </tr>\n",
       "    <tr>\n",
       "      <td>20956</td>\n",
       "      <td>2017-04-01</td>\n",
       "      <td>1</td>\n",
       "      <td>6.0</td>\n",
       "    </tr>\n",
       "  </tbody>\n",
       "</table>\n",
       "</div>"
      ],
      "text/plain": [
       "      application_date  segment  case_count\n",
       "0           2017-04-01        1        40.0\n",
       "20150       2017-04-01        1         2.0\n",
       "20956       2017-04-01        1         6.0"
      ]
     },
     "execution_count": 99,
     "metadata": {},
     "output_type": "execute_result"
    }
   ],
   "source": [
    "df_processing = df_processing.sort_values('application_date')\n",
    "df_processing.head(3)"
   ]
  },
  {
   "cell_type": "code",
   "execution_count": 100,
   "metadata": {},
   "outputs": [],
   "source": [
    "df_processing_copy = df_processing.groupby(['application_date','segment'],as_index = False).sum()"
   ]
  },
  {
   "cell_type": "code",
   "execution_count": 101,
   "metadata": {},
   "outputs": [
    {
     "data": {
      "text/html": [
       "<div>\n",
       "<style scoped>\n",
       "    .dataframe tbody tr th:only-of-type {\n",
       "        vertical-align: middle;\n",
       "    }\n",
       "\n",
       "    .dataframe tbody tr th {\n",
       "        vertical-align: top;\n",
       "    }\n",
       "\n",
       "    .dataframe thead th {\n",
       "        text-align: right;\n",
       "    }\n",
       "</style>\n",
       "<table border=\"1\" class=\"dataframe\">\n",
       "  <thead>\n",
       "    <tr style=\"text-align: right;\">\n",
       "      <th></th>\n",
       "      <th>application_date</th>\n",
       "      <th>segment</th>\n",
       "      <th>case_count</th>\n",
       "    </tr>\n",
       "  </thead>\n",
       "  <tbody>\n",
       "    <tr>\n",
       "      <td>0</td>\n",
       "      <td>2017-04-01</td>\n",
       "      <td>1</td>\n",
       "      <td>299.0</td>\n",
       "    </tr>\n",
       "    <tr>\n",
       "      <td>1</td>\n",
       "      <td>2017-04-01</td>\n",
       "      <td>2</td>\n",
       "      <td>897.0</td>\n",
       "    </tr>\n",
       "    <tr>\n",
       "      <td>2</td>\n",
       "      <td>2017-04-02</td>\n",
       "      <td>2</td>\n",
       "      <td>605.0</td>\n",
       "    </tr>\n",
       "  </tbody>\n",
       "</table>\n",
       "</div>"
      ],
      "text/plain": [
       "  application_date  segment  case_count\n",
       "0       2017-04-01        1       299.0\n",
       "1       2017-04-01        2       897.0\n",
       "2       2017-04-02        2       605.0"
      ]
     },
     "execution_count": 101,
     "metadata": {},
     "output_type": "execute_result"
    }
   ],
   "source": [
    "df_processing_copy.head(3)"
   ]
  },
  {
   "cell_type": "code",
   "execution_count": 102,
   "metadata": {},
   "outputs": [],
   "source": [
    "import datetime as dt\n",
    "df_processing_copy['application_date']=df_processing_copy['application_date'].map(dt.datetime.toordinal)"
   ]
  },
  {
   "cell_type": "code",
   "execution_count": 104,
   "metadata": {},
   "outputs": [
    {
     "data": {
      "text/plain": [
       "pandas.core.frame.DataFrame"
      ]
     },
     "execution_count": 104,
     "metadata": {},
     "output_type": "execute_result"
    }
   ],
   "source": [
    "type(df_processing_copy)"
   ]
  },
  {
   "cell_type": "code",
   "execution_count": 105,
   "metadata": {},
   "outputs": [
    {
     "data": {
      "text/html": [
       "<div>\n",
       "<style scoped>\n",
       "    .dataframe tbody tr th:only-of-type {\n",
       "        vertical-align: middle;\n",
       "    }\n",
       "\n",
       "    .dataframe tbody tr th {\n",
       "        vertical-align: top;\n",
       "    }\n",
       "\n",
       "    .dataframe thead th {\n",
       "        text-align: right;\n",
       "    }\n",
       "</style>\n",
       "<table border=\"1\" class=\"dataframe\">\n",
       "  <thead>\n",
       "    <tr style=\"text-align: right;\">\n",
       "      <th></th>\n",
       "      <th>application_date</th>\n",
       "      <th>segment</th>\n",
       "      <th>case_count</th>\n",
       "    </tr>\n",
       "  </thead>\n",
       "  <tbody>\n",
       "    <tr>\n",
       "      <td>0</td>\n",
       "      <td>736420</td>\n",
       "      <td>1</td>\n",
       "      <td>299.0</td>\n",
       "    </tr>\n",
       "    <tr>\n",
       "      <td>1</td>\n",
       "      <td>736420</td>\n",
       "      <td>2</td>\n",
       "      <td>897.0</td>\n",
       "    </tr>\n",
       "    <tr>\n",
       "      <td>2</td>\n",
       "      <td>736421</td>\n",
       "      <td>2</td>\n",
       "      <td>605.0</td>\n",
       "    </tr>\n",
       "  </tbody>\n",
       "</table>\n",
       "</div>"
      ],
      "text/plain": [
       "   application_date  segment  case_count\n",
       "0            736420        1       299.0\n",
       "1            736420        2       897.0\n",
       "2            736421        2       605.0"
      ]
     },
     "execution_count": 105,
     "metadata": {},
     "output_type": "execute_result"
    }
   ],
   "source": [
    "df_processing_copy.head(3)"
   ]
  },
  {
   "cell_type": "code",
   "execution_count": 106,
   "metadata": {},
   "outputs": [
    {
     "data": {
      "text/plain": [
       "array([[736420,      1],\n",
       "       [736420,      2],\n",
       "       [736421,      2],\n",
       "       ...,\n",
       "       [737261,      2],\n",
       "       [737262,      2],\n",
       "       [737263,      2]], dtype=int64)"
      ]
     },
     "execution_count": 106,
     "metadata": {},
     "output_type": "execute_result"
    }
   ],
   "source": [
    "X = df_processing_copy.iloc[:,:-1].values\n",
    "X"
   ]
  },
  {
   "cell_type": "code",
   "execution_count": 107,
   "metadata": {},
   "outputs": [
    {
     "data": {
      "text/plain": [
       "array([  299.,   897.,   605., ..., 12267., 27292., 29183.])"
      ]
     },
     "execution_count": 107,
     "metadata": {},
     "output_type": "execute_result"
    }
   ],
   "source": [
    "y = df_processing_copy.iloc[:,-1].values\n",
    "y"
   ]
  },
  {
   "cell_type": "code",
   "execution_count": 108,
   "metadata": {},
   "outputs": [],
   "source": [
    "X_train, X_test, y_train, y_test = train_test_split(X,y,test_size=0.2,random_state=0)"
   ]
  },
  {
   "cell_type": "code",
   "execution_count": 109,
   "metadata": {},
   "outputs": [
    {
     "name": "stdout",
     "output_type": "stream",
     "text": [
      "Original row count before grouping:  80402\n",
      "Row count after removing unwanted columns:  80402\n",
      "Row count after grouping & sum based on date and segment:  1650\n",
      "X_train count:  1320\n",
      "y_train count:  1320\n",
      "X_test count:  330\n",
      "y_test count:  330\n"
     ]
    }
   ],
   "source": [
    "print('Original row count before grouping: ',df['application_date'].count())\n",
    "print('Row count after removing unwanted columns: ',df_processing['application_date'].count())\n",
    "print('Row count after grouping & sum based on date and segment: ',df_processing_copy['application_date'].count())\n",
    "print('X_train count: ',X_train.shape[0])\n",
    "print('y_train count: ', y_train.shape[0])\n",
    "print('X_test count: ', X_test.shape[0])\n",
    "print('y_test count: ', y_test.shape[0])"
   ]
  },
  {
   "cell_type": "code",
   "execution_count": 110,
   "metadata": {},
   "outputs": [],
   "source": [
    "from sklearn.tree import DecisionTreeRegressor"
   ]
  },
  {
   "cell_type": "code",
   "execution_count": 111,
   "metadata": {},
   "outputs": [],
   "source": [
    "decision_tree_reg = DecisionTreeRegressor(random_state=0)"
   ]
  },
  {
   "cell_type": "code",
   "execution_count": 112,
   "metadata": {},
   "outputs": [
    {
     "data": {
      "text/plain": [
       "DecisionTreeRegressor(criterion='mse', max_depth=None, max_features=None,\n",
       "                      max_leaf_nodes=None, min_impurity_decrease=0.0,\n",
       "                      min_impurity_split=None, min_samples_leaf=1,\n",
       "                      min_samples_split=2, min_weight_fraction_leaf=0.0,\n",
       "                      presort=False, random_state=0, splitter='best')"
      ]
     },
     "execution_count": 112,
     "metadata": {},
     "output_type": "execute_result"
    }
   ],
   "source": [
    "decision_tree_reg.fit(X_train,y_train)"
   ]
  },
  {
   "cell_type": "code",
   "execution_count": 114,
   "metadata": {},
   "outputs": [],
   "source": [
    "y_pred = decision_tree_reg.predict(X_test)"
   ]
  },
  {
   "cell_type": "code",
   "execution_count": 116,
   "metadata": {},
   "outputs": [
    {
     "data": {
      "text/plain": [
       "array([ 1586., 24401.,  6302.,  3154.,  3944., 18900., 22072., 31937.,\n",
       "        3493.,  7667.])"
      ]
     },
     "execution_count": 116,
     "metadata": {},
     "output_type": "execute_result"
    }
   ],
   "source": [
    "y_pred[:10]"
   ]
  },
  {
   "cell_type": "code",
   "execution_count": 117,
   "metadata": {},
   "outputs": [],
   "source": [
    "def mean_absolute_percentage_error(y_true, y_pred): \n",
    "    y_true, y_pred = np.array(y_true), np.array(y_pred)\n",
    "    return np.mean(np.abs((y_true - y_pred) / y_true)) * 100"
   ]
  },
  {
   "cell_type": "code",
   "execution_count": 123,
   "metadata": {},
   "outputs": [
    {
     "data": {
      "text/plain": [
       "707.2351986403431"
      ]
     },
     "execution_count": 123,
     "metadata": {},
     "output_type": "execute_result"
    }
   ],
   "source": [
    "mean_absolute_percentage_error(y_test,y_pred)"
   ]
  },
  {
   "cell_type": "code",
   "execution_count": 126,
   "metadata": {},
   "outputs": [
    {
     "data": {
      "text/plain": [
       "array([ 1502., 26953.,  1445.,  3443.,  3058., 15801., 20863., 30480.])"
      ]
     },
     "execution_count": 126,
     "metadata": {},
     "output_type": "execute_result"
    }
   ],
   "source": [
    "y_test[:8]"
   ]
  },
  {
   "cell_type": "code",
   "execution_count": 127,
   "metadata": {},
   "outputs": [
    {
     "data": {
      "text/plain": [
       "array([ 1586., 24401.,  6302.,  3154.,  3944., 18900., 22072., 31937.])"
      ]
     },
     "execution_count": 127,
     "metadata": {},
     "output_type": "execute_result"
    }
   ],
   "source": [
    "y_pred[:8]"
   ]
  },
  {
   "cell_type": "code",
   "execution_count": 144,
   "metadata": {},
   "outputs": [
    {
     "data": {
      "text/html": [
       "<div>\n",
       "<style scoped>\n",
       "    .dataframe tbody tr th:only-of-type {\n",
       "        vertical-align: middle;\n",
       "    }\n",
       "\n",
       "    .dataframe tbody tr th {\n",
       "        vertical-align: top;\n",
       "    }\n",
       "\n",
       "    .dataframe thead th {\n",
       "        text-align: right;\n",
       "    }\n",
       "</style>\n",
       "<table border=\"1\" class=\"dataframe\">\n",
       "  <thead>\n",
       "    <tr style=\"text-align: right;\">\n",
       "      <th></th>\n",
       "      <th>id</th>\n",
       "      <th>application_date</th>\n",
       "      <th>segment</th>\n",
       "    </tr>\n",
       "  </thead>\n",
       "  <tbody>\n",
       "    <tr>\n",
       "      <td>0</td>\n",
       "      <td>1</td>\n",
       "      <td>2019-07-06</td>\n",
       "      <td>1</td>\n",
       "    </tr>\n",
       "    <tr>\n",
       "      <td>1</td>\n",
       "      <td>2</td>\n",
       "      <td>2019-07-07</td>\n",
       "      <td>1</td>\n",
       "    </tr>\n",
       "    <tr>\n",
       "      <td>2</td>\n",
       "      <td>3</td>\n",
       "      <td>2019-07-08</td>\n",
       "      <td>1</td>\n",
       "    </tr>\n",
       "    <tr>\n",
       "      <td>3</td>\n",
       "      <td>4</td>\n",
       "      <td>2019-07-09</td>\n",
       "      <td>1</td>\n",
       "    </tr>\n",
       "  </tbody>\n",
       "</table>\n",
       "</div>"
      ],
      "text/plain": [
       "   id application_date  segment\n",
       "0   1       2019-07-06        1\n",
       "1   2       2019-07-07        1\n",
       "2   3       2019-07-08        1\n",
       "3   4       2019-07-09        1"
      ]
     },
     "execution_count": 144,
     "metadata": {},
     "output_type": "execute_result"
    }
   ],
   "source": [
    "df_test = pd.read_csv('test_file.csv')\n",
    "df_test.head(4)"
   ]
  },
  {
   "cell_type": "code",
   "execution_count": 145,
   "metadata": {},
   "outputs": [
    {
     "data": {
      "text/html": [
       "<div>\n",
       "<style scoped>\n",
       "    .dataframe tbody tr th:only-of-type {\n",
       "        vertical-align: middle;\n",
       "    }\n",
       "\n",
       "    .dataframe tbody tr th {\n",
       "        vertical-align: top;\n",
       "    }\n",
       "\n",
       "    .dataframe thead th {\n",
       "        text-align: right;\n",
       "    }\n",
       "</style>\n",
       "<table border=\"1\" class=\"dataframe\">\n",
       "  <thead>\n",
       "    <tr style=\"text-align: right;\">\n",
       "      <th></th>\n",
       "      <th>id</th>\n",
       "      <th>application_date</th>\n",
       "      <th>segment</th>\n",
       "    </tr>\n",
       "  </thead>\n",
       "  <tbody>\n",
       "    <tr>\n",
       "      <td>0</td>\n",
       "      <td>1</td>\n",
       "      <td>2019-07-06</td>\n",
       "      <td>1</td>\n",
       "    </tr>\n",
       "    <tr>\n",
       "      <td>1</td>\n",
       "      <td>2</td>\n",
       "      <td>2019-07-07</td>\n",
       "      <td>1</td>\n",
       "    </tr>\n",
       "    <tr>\n",
       "      <td>2</td>\n",
       "      <td>3</td>\n",
       "      <td>2019-07-08</td>\n",
       "      <td>1</td>\n",
       "    </tr>\n",
       "  </tbody>\n",
       "</table>\n",
       "</div>"
      ],
      "text/plain": [
       "   id application_date  segment\n",
       "0   1       2019-07-06        1\n",
       "1   2       2019-07-07        1\n",
       "2   3       2019-07-08        1"
      ]
     },
     "execution_count": 145,
     "metadata": {},
     "output_type": "execute_result"
    }
   ],
   "source": [
    "df_test['application_date'] = df_test['application_date'].apply(pd.to_datetime)\n",
    "df_test.head(3)           "
   ]
  },
  {
   "cell_type": "code",
   "execution_count": 146,
   "metadata": {},
   "outputs": [
    {
     "data": {
      "text/html": [
       "<div>\n",
       "<style scoped>\n",
       "    .dataframe tbody tr th:only-of-type {\n",
       "        vertical-align: middle;\n",
       "    }\n",
       "\n",
       "    .dataframe tbody tr th {\n",
       "        vertical-align: top;\n",
       "    }\n",
       "\n",
       "    .dataframe thead th {\n",
       "        text-align: right;\n",
       "    }\n",
       "</style>\n",
       "<table border=\"1\" class=\"dataframe\">\n",
       "  <thead>\n",
       "    <tr style=\"text-align: right;\">\n",
       "      <th></th>\n",
       "      <th>id</th>\n",
       "      <th>application_date</th>\n",
       "      <th>segment</th>\n",
       "    </tr>\n",
       "  </thead>\n",
       "  <tbody>\n",
       "    <tr>\n",
       "      <td>0</td>\n",
       "      <td>1</td>\n",
       "      <td>737246</td>\n",
       "      <td>1</td>\n",
       "    </tr>\n",
       "    <tr>\n",
       "      <td>1</td>\n",
       "      <td>2</td>\n",
       "      <td>737247</td>\n",
       "      <td>1</td>\n",
       "    </tr>\n",
       "    <tr>\n",
       "      <td>2</td>\n",
       "      <td>3</td>\n",
       "      <td>737248</td>\n",
       "      <td>1</td>\n",
       "    </tr>\n",
       "  </tbody>\n",
       "</table>\n",
       "</div>"
      ],
      "text/plain": [
       "   id  application_date  segment\n",
       "0   1            737246        1\n",
       "1   2            737247        1\n",
       "2   3            737248        1"
      ]
     },
     "execution_count": 146,
     "metadata": {},
     "output_type": "execute_result"
    }
   ],
   "source": [
    "df_test['application_date'] = df_test['application_date'].map(dt.datetime.toordinal)\n",
    "df_test.head(3)"
   ]
  },
  {
   "cell_type": "code",
   "execution_count": 147,
   "metadata": {},
   "outputs": [
    {
     "data": {
      "text/html": [
       "<div>\n",
       "<style scoped>\n",
       "    .dataframe tbody tr th:only-of-type {\n",
       "        vertical-align: middle;\n",
       "    }\n",
       "\n",
       "    .dataframe tbody tr th {\n",
       "        vertical-align: top;\n",
       "    }\n",
       "\n",
       "    .dataframe thead th {\n",
       "        text-align: right;\n",
       "    }\n",
       "</style>\n",
       "<table border=\"1\" class=\"dataframe\">\n",
       "  <thead>\n",
       "    <tr style=\"text-align: right;\">\n",
       "      <th></th>\n",
       "      <th>application_date</th>\n",
       "      <th>segment</th>\n",
       "    </tr>\n",
       "  </thead>\n",
       "  <tbody>\n",
       "    <tr>\n",
       "      <td>0</td>\n",
       "      <td>737246</td>\n",
       "      <td>1</td>\n",
       "    </tr>\n",
       "    <tr>\n",
       "      <td>1</td>\n",
       "      <td>737247</td>\n",
       "      <td>1</td>\n",
       "    </tr>\n",
       "    <tr>\n",
       "      <td>2</td>\n",
       "      <td>737248</td>\n",
       "      <td>1</td>\n",
       "    </tr>\n",
       "  </tbody>\n",
       "</table>\n",
       "</div>"
      ],
      "text/plain": [
       "   application_date  segment\n",
       "0            737246        1\n",
       "1            737247        1\n",
       "2            737248        1"
      ]
     },
     "execution_count": 147,
     "metadata": {},
     "output_type": "execute_result"
    }
   ],
   "source": [
    "df_test = df_test[['application_date','segment']]\n",
    "df_test.head(3) "
   ]
  },
  {
   "cell_type": "code",
   "execution_count": 148,
   "metadata": {},
   "outputs": [],
   "source": [
    "X_final = df_test.iloc[:,:].values"
   ]
  },
  {
   "cell_type": "code",
   "execution_count": 149,
   "metadata": {},
   "outputs": [
    {
     "data": {
      "text/plain": [
       "array([[737246,      1],\n",
       "       [737247,      1],\n",
       "       [737248,      1],\n",
       "       [737249,      1],\n",
       "       [737250,      1],\n",
       "       [737251,      1],\n",
       "       [737252,      1],\n",
       "       [737253,      1],\n",
       "       [737254,      1],\n",
       "       [737255,      1],\n",
       "       [737256,      1],\n",
       "       [737257,      1],\n",
       "       [737258,      1],\n",
       "       [737259,      1],\n",
       "       [737260,      1],\n",
       "       [737261,      1],\n",
       "       [737262,      1],\n",
       "       [737263,      1],\n",
       "       [737264,      1],\n",
       "       [737265,      1],\n",
       "       [737266,      1],\n",
       "       [737267,      1],\n",
       "       [737268,      1],\n",
       "       [737269,      1],\n",
       "       [737270,      1],\n",
       "       [737271,      1],\n",
       "       [737272,      1],\n",
       "       [737273,      1],\n",
       "       [737274,      1],\n",
       "       [737275,      1],\n",
       "       [737276,      1],\n",
       "       [737277,      1],\n",
       "       [737278,      1],\n",
       "       [737279,      1],\n",
       "       [737280,      1],\n",
       "       [737281,      1],\n",
       "       [737282,      1],\n",
       "       [737283,      1],\n",
       "       [737284,      1],\n",
       "       [737285,      1],\n",
       "       [737286,      1],\n",
       "       [737287,      1],\n",
       "       [737288,      1],\n",
       "       [737289,      1],\n",
       "       [737290,      1],\n",
       "       [737291,      1],\n",
       "       [737292,      1],\n",
       "       [737293,      1],\n",
       "       [737294,      1],\n",
       "       [737295,      1],\n",
       "       [737296,      1],\n",
       "       [737297,      1],\n",
       "       [737298,      1],\n",
       "       [737299,      1],\n",
       "       [737300,      1],\n",
       "       [737301,      1],\n",
       "       [737302,      1],\n",
       "       [737303,      1],\n",
       "       [737304,      1],\n",
       "       [737305,      1],\n",
       "       [737306,      1],\n",
       "       [737307,      1],\n",
       "       [737308,      1],\n",
       "       [737309,      1],\n",
       "       [737310,      1],\n",
       "       [737311,      1],\n",
       "       [737312,      1],\n",
       "       [737313,      1],\n",
       "       [737314,      1],\n",
       "       [737315,      1],\n",
       "       [737316,      1],\n",
       "       [737317,      1],\n",
       "       [737318,      1],\n",
       "       [737319,      1],\n",
       "       [737320,      1],\n",
       "       [737321,      1],\n",
       "       [737322,      1],\n",
       "       [737323,      1],\n",
       "       [737324,      1],\n",
       "       [737325,      1],\n",
       "       [737326,      1],\n",
       "       [737327,      1],\n",
       "       [737328,      1],\n",
       "       [737329,      1],\n",
       "       [737330,      1],\n",
       "       [737331,      1],\n",
       "       [737332,      1],\n",
       "       [737264,      2],\n",
       "       [737265,      2],\n",
       "       [737266,      2],\n",
       "       [737267,      2],\n",
       "       [737268,      2],\n",
       "       [737269,      2],\n",
       "       [737270,      2],\n",
       "       [737271,      2],\n",
       "       [737272,      2],\n",
       "       [737273,      2],\n",
       "       [737274,      2],\n",
       "       [737275,      2],\n",
       "       [737276,      2],\n",
       "       [737277,      2],\n",
       "       [737278,      2],\n",
       "       [737279,      2],\n",
       "       [737280,      2],\n",
       "       [737281,      2],\n",
       "       [737282,      2],\n",
       "       [737283,      2],\n",
       "       [737284,      2],\n",
       "       [737285,      2],\n",
       "       [737286,      2],\n",
       "       [737287,      2],\n",
       "       [737288,      2],\n",
       "       [737289,      2],\n",
       "       [737290,      2],\n",
       "       [737291,      2],\n",
       "       [737292,      2],\n",
       "       [737293,      2],\n",
       "       [737294,      2],\n",
       "       [737295,      2],\n",
       "       [737296,      2],\n",
       "       [737297,      2],\n",
       "       [737298,      2],\n",
       "       [737299,      2],\n",
       "       [737300,      2],\n",
       "       [737301,      2],\n",
       "       [737302,      2],\n",
       "       [737303,      2],\n",
       "       [737304,      2],\n",
       "       [737305,      2],\n",
       "       [737306,      2],\n",
       "       [737307,      2],\n",
       "       [737308,      2],\n",
       "       [737309,      2],\n",
       "       [737310,      2],\n",
       "       [737311,      2],\n",
       "       [737312,      2],\n",
       "       [737313,      2],\n",
       "       [737314,      2],\n",
       "       [737315,      2],\n",
       "       [737316,      2],\n",
       "       [737317,      2],\n",
       "       [737318,      2],\n",
       "       [737319,      2],\n",
       "       [737320,      2],\n",
       "       [737321,      2],\n",
       "       [737322,      2],\n",
       "       [737323,      2],\n",
       "       [737324,      2],\n",
       "       [737325,      2],\n",
       "       [737326,      2],\n",
       "       [737327,      2],\n",
       "       [737328,      2],\n",
       "       [737329,      2],\n",
       "       [737330,      2],\n",
       "       [737331,      2],\n",
       "       [737332,      2],\n",
       "       [737333,      2],\n",
       "       [737334,      2],\n",
       "       [737335,      2],\n",
       "       [737336,      2],\n",
       "       [737337,      2],\n",
       "       [737338,      2],\n",
       "       [737339,      2],\n",
       "       [737340,      2],\n",
       "       [737341,      2],\n",
       "       [737342,      2],\n",
       "       [737343,      2],\n",
       "       [737344,      2],\n",
       "       [737345,      2],\n",
       "       [737346,      2],\n",
       "       [737347,      2],\n",
       "       [737348,      2],\n",
       "       [737349,      2],\n",
       "       [737350,      2],\n",
       "       [737351,      2],\n",
       "       [737352,      2],\n",
       "       [737353,      2],\n",
       "       [737354,      2],\n",
       "       [737355,      2],\n",
       "       [737356,      2]], dtype=int64)"
      ]
     },
     "execution_count": 149,
     "metadata": {},
     "output_type": "execute_result"
    }
   ],
   "source": [
    "X_final"
   ]
  },
  {
   "cell_type": "code",
   "execution_count": 150,
   "metadata": {},
   "outputs": [
    {
     "data": {
      "text/plain": [
       "numpy.ndarray"
      ]
     },
     "execution_count": 150,
     "metadata": {},
     "output_type": "execute_result"
    }
   ],
   "source": [
    "type(X_final)"
   ]
  },
  {
   "cell_type": "code",
   "execution_count": 151,
   "metadata": {},
   "outputs": [
    {
     "data": {
      "text/plain": [
       "array([[737246,      1],\n",
       "       [737247,      1],\n",
       "       [737248,      1],\n",
       "       [737249,      1],\n",
       "       [737250,      1],\n",
       "       [737251,      1],\n",
       "       [737252,      1],\n",
       "       [737253,      1],\n",
       "       [737254,      1],\n",
       "       [737255,      1]], dtype=int64)"
      ]
     },
     "execution_count": 151,
     "metadata": {},
     "output_type": "execute_result"
    }
   ],
   "source": [
    "X_final[:10]"
   ]
  },
  {
   "cell_type": "code",
   "execution_count": 152,
   "metadata": {},
   "outputs": [],
   "source": [
    "y_final_pred = decision_tree_reg.predict(X_final)"
   ]
  },
  {
   "cell_type": "code",
   "execution_count": 153,
   "metadata": {},
   "outputs": [
    {
     "data": {
      "text/plain": [
       "(180,)"
      ]
     },
     "execution_count": 153,
     "metadata": {},
     "output_type": "execute_result"
    }
   ],
   "source": [
    "y_final_pred.shape"
   ]
  },
  {
   "cell_type": "code",
   "execution_count": 154,
   "metadata": {},
   "outputs": [
    {
     "data": {
      "text/plain": [
       "array([1.3000e+01, 1.3000e+01, 1.3000e+01, 1.3000e+01, 1.3000e+01,\n",
       "       1.3000e+01, 1.3000e+01, 1.3000e+01, 1.3000e+01, 1.3000e+01,\n",
       "       1.3000e+01, 1.3000e+01, 1.3000e+01, 1.3000e+01, 1.3000e+01,\n",
       "       1.3000e+01, 1.3000e+01, 1.3000e+01, 1.3000e+01, 1.3000e+01,\n",
       "       1.3000e+01, 1.3000e+01, 1.3000e+01, 1.3000e+01, 1.3000e+01,\n",
       "       1.3000e+01, 1.3000e+01, 1.3000e+01, 1.3000e+01, 1.3000e+01,\n",
       "       1.3000e+01, 1.3000e+01, 1.3000e+01, 1.3000e+01, 1.3000e+01,\n",
       "       1.3000e+01, 1.3000e+01, 1.3000e+01, 1.3000e+01, 1.3000e+01,\n",
       "       1.3000e+01, 1.3000e+01, 1.3000e+01, 1.3000e+01, 1.3000e+01,\n",
       "       1.3000e+01, 1.3000e+01, 1.3000e+01, 1.3000e+01, 1.3000e+01,\n",
       "       1.3000e+01, 1.3000e+01, 1.3000e+01, 1.3000e+01, 1.3000e+01,\n",
       "       1.3000e+01, 1.3000e+01, 1.3000e+01, 1.3000e+01, 1.3000e+01,\n",
       "       1.3000e+01, 1.3000e+01, 1.3000e+01, 1.3000e+01, 1.3000e+01,\n",
       "       1.3000e+01, 1.3000e+01, 1.3000e+01, 1.3000e+01, 1.3000e+01,\n",
       "       1.3000e+01, 1.3000e+01, 1.3000e+01, 1.3000e+01, 1.3000e+01,\n",
       "       1.3000e+01, 1.3000e+01, 1.3000e+01, 1.3000e+01, 1.3000e+01,\n",
       "       1.3000e+01, 1.3000e+01, 1.3000e+01, 1.3000e+01, 1.3000e+01,\n",
       "       1.3000e+01, 1.3000e+01, 2.9183e+04, 2.9183e+04, 2.9183e+04,\n",
       "       2.9183e+04, 2.9183e+04, 2.9183e+04, 2.9183e+04, 2.9183e+04,\n",
       "       2.9183e+04, 2.9183e+04, 2.9183e+04, 2.9183e+04, 2.9183e+04,\n",
       "       2.9183e+04, 2.9183e+04, 2.9183e+04, 2.9183e+04, 2.9183e+04,\n",
       "       2.9183e+04, 2.9183e+04, 2.9183e+04, 2.9183e+04, 2.9183e+04,\n",
       "       2.9183e+04, 2.9183e+04, 2.9183e+04, 2.9183e+04, 2.9183e+04,\n",
       "       2.9183e+04, 2.9183e+04, 2.9183e+04, 2.9183e+04, 2.9183e+04,\n",
       "       2.9183e+04, 2.9183e+04, 2.9183e+04, 2.9183e+04, 2.9183e+04,\n",
       "       2.9183e+04, 2.9183e+04, 2.9183e+04, 2.9183e+04, 2.9183e+04,\n",
       "       2.9183e+04, 2.9183e+04, 2.9183e+04, 2.9183e+04, 2.9183e+04,\n",
       "       2.9183e+04, 2.9183e+04, 2.9183e+04, 2.9183e+04, 2.9183e+04,\n",
       "       2.9183e+04, 2.9183e+04, 2.9183e+04, 2.9183e+04, 2.9183e+04,\n",
       "       2.9183e+04, 2.9183e+04, 2.9183e+04, 2.9183e+04, 2.9183e+04,\n",
       "       2.9183e+04, 2.9183e+04, 2.9183e+04, 2.9183e+04, 2.9183e+04,\n",
       "       2.9183e+04, 2.9183e+04, 2.9183e+04, 2.9183e+04, 2.9183e+04,\n",
       "       2.9183e+04, 2.9183e+04, 2.9183e+04, 2.9183e+04, 2.9183e+04,\n",
       "       2.9183e+04, 2.9183e+04, 2.9183e+04, 2.9183e+04, 2.9183e+04,\n",
       "       2.9183e+04, 2.9183e+04, 2.9183e+04, 2.9183e+04, 2.9183e+04,\n",
       "       2.9183e+04, 2.9183e+04, 2.9183e+04, 2.9183e+04, 2.9183e+04])"
      ]
     },
     "execution_count": 154,
     "metadata": {},
     "output_type": "execute_result"
    }
   ],
   "source": [
    "y_final_pred"
   ]
  },
  {
   "cell_type": "code",
   "execution_count": 155,
   "metadata": {},
   "outputs": [
    {
     "data": {
      "text/plain": [
       "numpy.ndarray"
      ]
     },
     "execution_count": 155,
     "metadata": {},
     "output_type": "execute_result"
    }
   ],
   "source": [
    "type(y_final_pred)"
   ]
  },
  {
   "cell_type": "code",
   "execution_count": 141,
   "metadata": {},
   "outputs": [
    {
     "ename": "TypeError",
     "evalue": "append() missing 1 required positional argument: 'values'",
     "output_type": "error",
     "traceback": [
      "\u001b[1;31m---------------------------------------------------------------------------\u001b[0m",
      "\u001b[1;31mTypeError\u001b[0m                                 Traceback (most recent call last)",
      "\u001b[1;32m<ipython-input-141-747ae74082f3>\u001b[0m in \u001b[0;36m<module>\u001b[1;34m\u001b[0m\n\u001b[1;32m----> 1\u001b[1;33m \u001b[0msubmission_df\u001b[0m \u001b[1;33m=\u001b[0m \u001b[0mnp\u001b[0m\u001b[1;33m.\u001b[0m\u001b[0mappend\u001b[0m\u001b[1;33m(\u001b[0m\u001b[1;33m(\u001b[0m\u001b[0mX_final\u001b[0m\u001b[1;33m,\u001b[0m \u001b[0my_final_pred\u001b[0m\u001b[1;33m)\u001b[0m\u001b[1;33m)\u001b[0m\u001b[1;33m\u001b[0m\u001b[1;33m\u001b[0m\u001b[0m\n\u001b[0m",
      "\u001b[1;31mTypeError\u001b[0m: append() missing 1 required positional argument: 'values'"
     ]
    }
   ],
   "source": [
    "submission_df = np.append((X_final, y_final_pred))"
   ]
  },
  {
   "cell_type": "code",
   "execution_count": 157,
   "metadata": {},
   "outputs": [],
   "source": [
    "pd.DataFrame(y_final_pred).to_csv(\"file1.csv\")"
   ]
  },
  {
   "cell_type": "code",
   "execution_count": null,
   "metadata": {},
   "outputs": [],
   "source": []
  }
 ],
 "metadata": {
  "kernelspec": {
   "display_name": "Python 3",
   "language": "python",
   "name": "python3"
  },
  "language_info": {
   "codemirror_mode": {
    "name": "ipython",
    "version": 3
   },
   "file_extension": ".py",
   "mimetype": "text/x-python",
   "name": "python",
   "nbconvert_exporter": "python",
   "pygments_lexer": "ipython3",
   "version": "3.7.4"
  }
 },
 "nbformat": 4,
 "nbformat_minor": 2
}
